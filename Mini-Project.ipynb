{
 "cells": [
  {
   "cell_type": "markdown",
   "metadata": {},
   "source": [
    "# Mini-Project: A Simple Search Engine from Scratch\n",
    "In this mini-project you will study the fundaments of IR.\n",
    "\n",
    "The mini-project is divided as follow:\n",
    "\n",
    "- **Week 1**: Study the provided notebook. Using the VSM retrieval model, run experiments *(section 4)* with the provided collection. Compute the metrics MAP, P10 and precision-recall curves.\n",
    "\n",
    "- **Week 2**: Implement the LMD and LMJM retrieval models and repeat the experiments with the new models. Compare it to the previous retrieval models.\n",
    "\n",
    "- **Week 3**: Implement the RM3 retrieval model and repeat the experiments with the new models. Compare it to the previous retrieval models.\n",
    "\n",
    "- **Week 4**: Implement the BM25 retrieval model and repeat the experiments with the new models. Compare it to the previous retrieval models.\n",
    "\n",
    "**Submission date: 15 October**\n",
    "\n",
    "## 1. Vector Space Model\n",
    "\n",
    "In the vector space model, documents are represented as a vector $d_j=(w_{d_j,1},w_{d_j,2}, ..., w_{d_j,n})$ of $n$ word frequencies -- most of the words are equal to 0. Queries are also represented as a vector of words $q_j=(w_{q_j,1},w_{q_j,2}, ..., w_{q_j,n})$. In the vector space model, each document word is weighted by their *tf-idf*\n",
    "\n",
    "$${tf-idf} = tf*\\frac{|D|}{log (df(w_a))}$$\n",
    "\n",
    "The vector space model is based on the cosine similarity, which measures the angle between the two vectors in the 1-unit sphere:\n",
    "\n",
    "$$cos(q,d) = \\frac{\\sum_t q_t\\cdot d_t}{\\sqrt{\\sum_t q^2_t}\\cdot \\sqrt{\\sum_t d^2_t }}$$\n",
    "\n",
    "\n",
    "Below you can read the corresponding matricial implementation for multiple documents.\n",
    "\n",
    "### Parser\n",
    "Using the CountVectorizer class of Scikit-Learn, try the different parser options by generating unigrams and bigrams with different stop words.\n"
   ]
  },
  {
   "cell_type": "code",
   "execution_count": 16,
   "metadata": {},
   "outputs": [],
   "source": [
    "import numpy as np\n",
    "from sklearn.feature_extraction.text import CountVectorizer\n",
    "\n",
    "vectorizer = CountVectorizer()\n",
    "bigram_vectorizer = CountVectorizer(ngram_range=(1, 2), token_pattern=r'\\b\\w+\\b', \n",
    "                                    min_df=1, stop_words = {'the', 'is'})\n",
    "\n",
    "corpus = ['This is the first document.',\n",
    "'This is the second second document.',\n",
    "'And the third one.',\n",
    "'Is this the first document?', ]"
   ]
  },
  {
   "cell_type": "code",
   "execution_count": 17,
   "metadata": {},
   "outputs": [
    {
     "data": {
      "text/plain": [
       "['this', 'is', 'text', 'document', 'to', 'analyze']"
      ]
     },
     "execution_count": 17,
     "metadata": {},
     "output_type": "execute_result"
    }
   ],
   "source": [
    "uni_analyze = vectorizer.build_analyzer()\n",
    "uni_analyze(\"This is a text document to analyze.\")"
   ]
  },
  {
   "cell_type": "code",
   "execution_count": 18,
   "metadata": {},
   "outputs": [
    {
     "name": "stdout",
     "output_type": "stream",
     "text": [
      "['and', 'document', 'first', 'is', 'one', 'second', 'the', 'third', 'this']\n",
      "\n",
      "[[0 1 1 1 0 0 1 0 1]\n",
      " [0 1 0 1 0 2 1 0 1]\n",
      " [1 0 0 0 1 0 1 1 0]\n",
      " [0 1 1 1 0 0 1 0 1]]\n"
     ]
    }
   ],
   "source": [
    "tf_uni = vectorizer.fit_transform(corpus).toarray()\n",
    "print(vectorizer.get_feature_names())\n",
    "print()\n",
    "print(tf_uni)"
   ]
  },
  {
   "cell_type": "code",
   "execution_count": 19,
   "metadata": {},
   "outputs": [
    {
     "data": {
      "text/plain": [
       "['this',\n",
       " 'a',\n",
       " 'text',\n",
       " 'document',\n",
       " 'to',\n",
       " 'analyze',\n",
       " 'this a',\n",
       " 'a text',\n",
       " 'text document',\n",
       " 'document to',\n",
       " 'to analyze']"
      ]
     },
     "execution_count": 19,
     "metadata": {},
     "output_type": "execute_result"
    }
   ],
   "source": [
    "bi_analyze = bigram_vectorizer.build_analyzer()\n",
    "bi_analyze(\"This is a text document to analyze.\") "
   ]
  },
  {
   "cell_type": "code",
   "execution_count": 20,
   "metadata": {},
   "outputs": [
    {
     "name": "stdout",
     "output_type": "stream",
     "text": [
      "['and', 'and third', 'document', 'first', 'first document', 'one', 'second', 'second document', 'second second', 'third', 'third one', 'this', 'this first', 'this second']\n",
      "\n",
      "[[0 0 1 1 1 0 0 0 0 0 0 1 1 0]\n",
      " [0 0 1 0 0 0 2 1 1 0 0 1 0 1]\n",
      " [1 1 0 0 0 1 0 0 0 1 1 0 0 0]\n",
      " [0 0 1 1 1 0 0 0 0 0 0 1 1 0]]\n"
     ]
    }
   ],
   "source": [
    "tf_bi = bigram_vectorizer.fit_transform(corpus).toarray()\n",
    "print(bigram_vectorizer.get_feature_names())\n",
    "print()\n",
    "print(tf_bi)"
   ]
  },
  {
   "cell_type": "code",
   "execution_count": 21,
   "metadata": {},
   "outputs": [
    {
     "data": {
      "text/plain": [
       "2"
      ]
     },
     "execution_count": 21,
     "metadata": {},
     "output_type": "execute_result"
    }
   ],
   "source": [
    "bigram_vectorizer.vocabulary_.get('document')"
   ]
  },
  {
   "cell_type": "markdown",
   "metadata": {},
   "source": [
    "### TF IDF and the cosine similarity"
   ]
  },
  {
   "cell_type": "code",
   "execution_count": 42,
   "metadata": {},
   "outputs": [
    {
     "name": "stdout",
     "output_type": "stream",
     "text": [
      "\n",
      "tf:\n",
      " [[0 1 1 1 0 0 1 0 1]\n",
      " [0 1 0 1 0 2 1 0 1]\n",
      " [1 0 0 0 1 0 1 1 0]\n",
      " [0 1 1 1 0 0 1 0 1]]\n",
      "\n",
      "idf:\n",
      " [1.38629436 0.28768207 0.69314718 0.28768207 1.38629436 1.38629436\n",
      " 0.         1.38629436 0.28768207]\n",
      "\n",
      "idf:\n",
      " [1.38629436 0.         0.69314718 0.         1.38629436 1.38629436\n",
      " 0.         1.38629436 0.        ]\n",
      "\n",
      "tfidf:\n",
      " [[0.         0.28768207 0.69314718 0.28768207 0.         0.\n",
      "  0.         0.         0.28768207]\n",
      " [0.         0.28768207 0.         0.28768207 0.         2.77258872\n",
      "  0.         0.         0.28768207]\n",
      " [1.38629436 0.         0.         0.         1.38629436 0.\n",
      "  0.         1.38629436 0.        ]\n",
      " [0.         0.28768207 0.69314718 0.28768207 0.         0.\n",
      "  0.         0.         0.28768207]]\n",
      "\n",
      "docnorms:\n",
      " [0.85366032 2.81700748 2.40113227 0.85366032]\n"
     ]
    }
   ],
   "source": [
    "termCollFreq = np.sum(tf_uni != 0, axis = 0)\n",
    "docLen = np.sum(tf_uni, axis = 1)\n",
    "\n",
    "idf = np.log(np.size(corpus)/termCollFreq)\n",
    "idf_rows = np.dot(np.ones((np.size(corpus),1)), idf.reshape(1,np.size(idf)))\n",
    "tfidf = tf_uni*idf_rows\n",
    "\n",
    "docNorms = np.sqrt(np.sum(np.power(tfidf,2), axis = 1))\n",
    "v = np.array(docLen)\n",
    "\n",
    "print(\"\\ntf:\\n\", tf_uni)\n",
    "print(\"\\nidf:\\n\", idf)\n",
    "print(\"\\nidf:\\n\", (idf > 0.3)* idf)\n",
    "print(\"\\ntfidf:\\n\", tfidf)\n",
    "print(\"\\ndocnorms:\\n\", docNorms)"
   ]
  },
  {
   "cell_type": "code",
   "execution_count": 23,
   "metadata": {},
   "outputs": [
    {
     "name": "stdout",
     "output_type": "stream",
     "text": [
      "[[0.3369983  0.10212329 0.57735027 0.3369983 ]]\n"
     ]
    }
   ],
   "source": [
    "query = 'document'\n",
    "query_vector = vectorizer.transform([query]).toarray()\n",
    "queryNorm = np.sqrt(np.sum(np.power(query_vector, 2), axis = 1))\n",
    "query_vector = np.array([[1, 1, 0, 0, 0, 0, 0, 0, 0]])\n",
    "doc_scores = np.dot(query_vector, tfidf.T)/(docNorms*queryNorm)\n",
    "\n",
    "print(doc_scores)"
   ]
  },
  {
   "cell_type": "markdown",
   "metadata": {},
   "source": [
    "### Inverted Index\n",
    "The matricial implementation is not scalable because it computes the similarity for all documents in the collection. However, one should only compute the similarity for the documents containing the query words. This is where the inverted index comes to our rescue.\n",
    "\n",
    "Read the inverted index implementation presented next. Describe in your own words how the cosine similarity should be implemented with the inverted index:\n"
   ]
  },
  {
   "cell_type": "code",
   "execution_count": 24,
   "metadata": {
    "scrolled": false
   },
   "outputs": [
    {
     "name": "stdout",
     "output_type": "stream",
     "text": [
      "==== Creating the posting list for token \" and \"\n",
      "[(1, 2)]\n",
      "==== Creating the posting list for token \" document \"\n",
      "[(1, 0), (1, 1), (1, 3)]\n",
      "==== Creating the posting list for token \" first \"\n",
      "[(1, 0), (1, 3)]\n",
      "==== Creating the posting list for token \" is \"\n",
      "[(1, 0), (1, 1), (1, 3)]\n",
      "==== Creating the posting list for token \" one \"\n",
      "[(1, 2)]\n",
      "==== Creating the posting list for token \" second \"\n",
      "[(2, 1)]\n",
      "==== Creating the posting list for token \" the \"\n",
      "[(1, 0), (1, 1), (1, 2), (1, 3)]\n",
      "==== Creating the posting list for token \" third \"\n",
      "[(1, 2)]\n",
      "==== Creating the posting list for token \" this \"\n",
      "[(1, 0), (1, 1), (1, 3)]\n"
     ]
    }
   ],
   "source": [
    "features = vectorizer.get_feature_names()\n",
    "\n",
    "i = 0\n",
    "inverted_index = dict()\n",
    "for token in features:\n",
    "    print(\"==== Creating the posting list for token \\\"\", token, \"\\\"\")\n",
    "    docs_with_token = np.where(tf_uni[:,i] != 0)\n",
    "    len = np.size(docs_with_token,1)\n",
    "    \n",
    "    postings_matrix = np.concatenate([tf_uni[docs_with_token,i], docs_with_token])\n",
    "    postings_list = list(map(tuple, postings_matrix.T))\n",
    "    inverted_index[token] = postings_list\n",
    "\n",
    "    print(postings_list)\n",
    "    i = i + 1"
   ]
  },
  {
   "cell_type": "markdown",
   "metadata": {},
   "source": [
    "### Evaluation\n",
    "Using the Vector Space Model, run the experiments of section 4.\n",
    "\n",
    "We advice you to use an external Python IDE for editing more complex implementations. **The Notebook should be used as a notebook, not as an IDE**. Your implementations should be organized on external classes as below:"
   ]
  },
  {
   "cell_type": "code",
   "execution_count": 26,
   "metadata": {},
   "outputs": [
    {
     "data": {
      "text/plain": [
       "array([[0.33695882, 0.10211967, 0.        , 0.33695882]])"
      ]
     },
     "execution_count": 26,
     "metadata": {},
     "output_type": "execute_result"
    }
   ],
   "source": [
    "import RetrievalModelsMatrix as b\n",
    "\n",
    "aa = b.RetrievalModelsMatrix(tf_uni, vectorizer,[])\n",
    "\n",
    "aa.score_vsm('document')"
   ]
  },
  {
   "cell_type": "markdown",
   "metadata": {},
   "source": [
    "## 2. Retrieval Models\n",
    "\n",
    "In this section you will implement three of the most popular retrieval model. After finishing each retrieval model implementation, run the experiments of section 4 with the new model.\n",
    "\n",
    "### Language Model with Jelineck-Mercer Smoothing (20%)\n",
    "The family of Language Models for retrieval build on the density distribution of the terms over each document and the density distribution of terms over the collection of documents.\n",
    "\n",
    "There several ways of avoiding the zero probabilities problem with term smoothing.  The Jelineck-Mercer smoothing model uses a mixture of probabilities between the document model $M_d$ and the corpus model $M_c$:\n",
    "\n",
    "$$p(q|d,C)= \\lambda \\cdot p(q|M_d) + (1-\\lambda)\\cdot p(q|M_c)$$\n",
    "\n",
    "Implement the LMJM retrieval model using the matricial definitions:"
   ]
  },
  {
   "cell_type": "code",
   "execution_count": 48,
   "metadata": {},
   "outputs": [
    {
     "name": "stdout",
     "output_type": "stream",
     "text": [
      "\n",
      "tf:\n",
      " [[0 1 1 1 0 0 1 0 1]\n",
      " [0 1 0 1 0 2 1 0 1]\n",
      " [1 0 0 0 1 0 1 1 0]\n",
      " [0 1 1 1 0 0 1 0 1]]\n",
      "\n",
      "termCollFreq:\n",
      " [1 3 2 3 1 1 4 1 3]\n",
      "\n",
      "docLen:\n",
      " [5 6 4 5]\n",
      "\n",
      "collection_size:\n",
      " 20\n",
      "\n",
      "term_coll_freq_prob:\n",
      " [0.05 0.15 0.1  0.15 0.05 0.1  0.2  0.05 0.15]\n",
      "\n",
      "term_doc_freq_prob:\n",
      " [[0.         0.2        0.2        0.2        0.         0.\n",
      "  0.2        0.         0.2       ]\n",
      " [0.         0.16666667 0.         0.16666667 0.         0.33333333\n",
      "  0.16666667 0.         0.16666667]\n",
      " [0.25       0.         0.         0.         0.25       0.\n",
      "  0.25       0.25       0.        ]\n",
      " [0.         0.2        0.2        0.2        0.         0.\n",
      "  0.2        0.         0.2       ]]\n",
      "\n",
      "prob:\n",
      " [[0.025      0.175      0.15       0.175      0.025      0.05\n",
      "  0.2        0.025      0.175     ]\n",
      " [0.025      0.15833333 0.05       0.15833333 0.025      0.21666667\n",
      "  0.18333333 0.025      0.15833333]\n",
      " [0.15       0.075      0.05       0.075      0.15       0.05\n",
      "  0.225      0.15       0.075     ]\n",
      " [0.025      0.175      0.15       0.175      0.025      0.05\n",
      "  0.2        0.025      0.175     ]]\n",
      "\n",
      "result:\n",
      " [0.175      0.15833333 0.075      0.175     ]\n",
      "\n",
      "query_vector:\n",
      " 1\n"
     ]
    }
   ],
   "source": [
    "query = \"document\"\n",
    "\n",
    "lmd = 0.5\n",
    "term_coll_freq = np.sum(tf_uni, axis=0)\n",
    "docLen = np.sum(tf_uni, axis = 1)\n",
    "collection_size = np.sum(docLen)\n",
    "term_coll_freq_prob = np.divide(term_coll_freq , collection_size)\n",
    "term_doc_freq_prob = tf_uni/np.array(docLen)[:, None]\n",
    "\n",
    "prob = lmd * term_doc_freq_prob + (1-lmd)*term_coll_freq_prob\n",
    "\n",
    "query_vector = vectorizer.transform([query]).toarray()\n",
    "\n",
    "result = np.prod(prob**query_vector, axis=1)\n",
    "\n",
    "print(\"\\ntf:\\n\", tf_uni)\n",
    "print(\"\\ntermCollFreq:\\n\", termCollFreq)\n",
    "print(\"\\ndocLen:\\n\", docLen)\n",
    "print(\"\\ncollection_size:\\n\", collection_size)\n",
    "print(\"\\nterm_coll_freq_prob:\\n\", term_coll_freq_prob)\n",
    "print(\"\\nterm_doc_freq_prob:\\n\", term_doc_freq_prob)\n",
    "print(\"\\nprob:\\n\", prob)\n",
    "print(\"\\nresult:\\n\", result)\n"
   ]
  },
  {
   "cell_type": "markdown",
   "metadata": {},
   "source": [
    "Implement the LMJM retrieval model using the inverted-index data structures:"
   ]
  },
  {
   "cell_type": "code",
   "execution_count": 28,
   "metadata": {},
   "outputs": [
    {
     "name": "stdout",
     "output_type": "stream",
     "text": [
      "[[0.3369983  0.10212329 0.57735027 0.3369983 ]]\n"
     ]
    }
   ],
   "source": [
    "query = \"document\"\n",
    "\n",
    "# TO DO: LMJM model\n",
    "\n",
    "print(doc_scores)"
   ]
  },
  {
   "cell_type": "markdown",
   "metadata": {},
   "source": [
    "### Language Model with Dirichlet Smoothing (20%)\n",
    "Another way of avoiding the zero probabilities problem is with the Dirichlet smoothing model that uses a mixture of frequencies between the term document frequencies $f_{t,c}$ and the term corpus frequency $\\mu \\cdot M_c(t)$:\n",
    "\n",
    "$$p(t|M_d, M_c)= \\frac{f_{t,d}+\\mu \\cdot M_c(t)}{|d| + \\mu}$$\n",
    "\n",
    "Implement the LMD retrieval model using the matricial definitions:\n"
   ]
  },
  {
   "cell_type": "code",
   "execution_count": 29,
   "metadata": {},
   "outputs": [
    {
     "name": "stdout",
     "output_type": "stream",
     "text": [
      "\n",
      "prob [[0.04761905 0.15238095 0.1047619  0.15238095 0.04761905 0.0952381\n",
      "  0.2        0.04761905 0.15238095]\n",
      " [0.04716981 0.1509434  0.09433962 0.1509434  0.04716981 0.11320755\n",
      "  0.19811321 0.04716981 0.1509434 ]\n",
      " [0.05769231 0.14423077 0.09615385 0.14423077 0.05769231 0.09615385\n",
      "  0.20192308 0.05769231 0.14423077]\n",
      " [0.04761905 0.15238095 0.1047619  0.15238095 0.04761905 0.0952381\n",
      "  0.2        0.04761905 0.15238095]]\n",
      "\n",
      "result [0.15238095 0.1509434  0.14423077 0.15238095]\n"
     ]
    }
   ],
   "source": [
    "miu = 100\n",
    "freq = (tf_uni + miu*term_coll_freq_prob)/(np.reshape(docLen,[np.size(docLen),1])+miu)\n",
    "result = np.prod(freq**query_vector, axis=1)\n",
    "print(\"\\nprob\",freq)\n",
    "print(\"\\nresult\",result)"
   ]
  },
  {
   "cell_type": "markdown",
   "metadata": {},
   "source": [
    "Implement the LMD retrieval model using the inverted-index data structures:"
   ]
  },
  {
   "cell_type": "code",
   "execution_count": 30,
   "metadata": {},
   "outputs": [
    {
     "name": "stdout",
     "output_type": "stream",
     "text": [
      "[[0.3369983  0.10212329 0.57735027 0.3369983 ]]\n"
     ]
    }
   ],
   "source": [
    "query = \"document\"\n",
    "\n",
    "# TO DO: LMD model\n",
    "\n",
    "print(doc_scores)"
   ]
  },
  {
   "cell_type": "markdown",
   "metadata": {},
   "source": [
    "### BM 25 (20%)\n",
    "\n",
    "The BM25 is model is an evolution of the tf-idf weighting based on a two Poisson distribution per term. It is obviously impossible to estimate each term distribution -- the approximation to the two Poisson distribution is given by the expression:\n",
    "\n",
    "$$RSV = \\sum q_t \\cdot \\frac{f_{t,d}(k_1 + 1)}{k_1 ((1-b) + b(\\frac{l_d}{l_avg})) + f_{t,d} }\\cdot IDF_t$$\n",
    "\n",
    "Implement the BM5 retrieval model using the matricial definitions:"
   ]
  },
  {
   "cell_type": "code",
   "execution_count": 31,
   "metadata": {},
   "outputs": [
    {
     "name": "stdout",
     "output_type": "stream",
     "text": [
      "[[0.3369983  0.10212329 0.57735027 0.3369983 ]]\n"
     ]
    }
   ],
   "source": [
    "query = \"document\"\n",
    "\n",
    "# TO DO: BM25 model\n",
    "\n",
    "print(doc_scores)"
   ]
  },
  {
   "cell_type": "markdown",
   "metadata": {},
   "source": [
    "Implement the BM25 retrieval model using the inverted-index data structures:"
   ]
  },
  {
   "cell_type": "code",
   "execution_count": 32,
   "metadata": {},
   "outputs": [
    {
     "name": "stdout",
     "output_type": "stream",
     "text": [
      "[[0.3369983  0.10212329 0.57735027 0.3369983 ]]\n"
     ]
    }
   ],
   "source": [
    "query = \"document\"\n",
    "\n",
    "# TO DO: BM25 model\n",
    "\n",
    "print(doc_scores)"
   ]
  },
  {
   "cell_type": "markdown",
   "metadata": {},
   "source": [
    "### Evaluation\n",
    "Using the implemented Retrieval Models, run the experiments of section 4.\n"
   ]
  },
  {
   "cell_type": "markdown",
   "metadata": {},
   "source": [
    "## 3. Pseudo-Relevance Feedback (RM3) (20%)\n",
    "\n",
    "Using the RM3 Model, run the experiments of section 4.\n",
    "\n",
    "Implement the RM3 retrieval model using the matricial definitions:"
   ]
  },
  {
   "cell_type": "code",
   "execution_count": 57,
   "metadata": {},
   "outputs": [
    {
     "name": "stdout",
     "output_type": "stream",
     "text": [
      "[[0.    0.814 0.014 0.014 0.    0.    0.014 0.    0.014]]\n"
     ]
    },
    {
     "ename": "NameError",
     "evalue": "name 'lmd_result' is not defined",
     "output_type": "error",
     "traceback": [
      "\u001b[1;31m---------------------------------------------------------------------------\u001b[0m",
      "\u001b[1;31mNameError\u001b[0m                                 Traceback (most recent call last)",
      "\u001b[1;32m<ipython-input-57-9370115b70f6>\u001b[0m in \u001b[0;36m<module>\u001b[1;34m\u001b[0m\n\u001b[0;32m     34\u001b[0m \u001b[0mbest_terms\u001b[0m \u001b[1;33m=\u001b[0m \u001b[0msorted_final_query\u001b[0m \u001b[1;33m*\u001b[0m \u001b[1;33m(\u001b[0m\u001b[0msorted_final_query\u001b[0m \u001b[1;33m>\u001b[0m \u001b[0mfinal_query_threshold\u001b[0m\u001b[1;33m)\u001b[0m\u001b[1;33m\u001b[0m\u001b[1;33m\u001b[0m\u001b[0m\n\u001b[0;32m     35\u001b[0m \u001b[1;33m\u001b[0m\u001b[0m\n\u001b[1;32m---> 36\u001b[1;33m \u001b[0mnp\u001b[0m\u001b[1;33m.\u001b[0m\u001b[0mprod\u001b[0m\u001b[1;33m(\u001b[0m\u001b[0mlmd_result\u001b[0m \u001b[1;33m**\u001b[0m \u001b[0mbest_terms\u001b[0m\u001b[1;33m,\u001b[0m \u001b[0maxis\u001b[0m\u001b[1;33m=\u001b[0m\u001b[1;36m1\u001b[0m\u001b[1;33m)\u001b[0m\u001b[1;33m\u001b[0m\u001b[1;33m\u001b[0m\u001b[0m\n\u001b[0m\u001b[0;32m     37\u001b[0m \u001b[1;33m\u001b[0m\u001b[0m\n",
      "\u001b[1;31mNameError\u001b[0m: name 'lmd_result' is not defined"
     ]
    }
   ],
   "source": [
    "query = \"document\"\n",
    "\n",
    "srank = np.sort(result)\n",
    "threshold = srank[1]\n",
    "top = result * (result > threshold)\n",
    "r = term_doc_freq_prob * np.reshape(top,[-1,1])\n",
    "re = np.sum(r, axis = 0)\n",
    "\n",
    "sorted = np.sort(re)\n",
    "t_w = sorted[2]\n",
    "re = re * (re > t_w)\n",
    "\n",
    "query_vector = vectorizer.transform([query]).toarray()\n",
    "term_query_prob = query_vector / np.sum(query_vector, axis=1)\n",
    "\n",
    "final_res = (1- 0.2)*term_query_prob + (0.2)*re\n",
    "\n",
    "\n",
    "\n",
    "\n",
    "sorted_ranks = np.sort(result)\n",
    "threshold = sorted_ranks[1]\n",
    "\n",
    "top_documents = result * (result > threshold)\n",
    "top_term_query_prob = term_doc_freq_prob * np.reshape(top_documents, [-1, 1])\n",
    "top_doc_term_query_prob = np.sum(top_term_query_prob, axis=0)\n",
    "term_query_prob = query_vector / np.sum(query_vector, axis=1)\n",
    "\n",
    "final_query = (1 - 0.2) * term_query_prob + 0.2 * top_doc_term_query_prob\n",
    "\n",
    "sorted_final_query = np.sort(final_query)\n",
    "print(final_query)\n",
    "final_query_threshold = sorted_final_query[0][1]\n",
    "best_terms = sorted_final_query * (sorted_final_query > final_query_threshold)\n",
    "\n",
    "np.prod(lmd_result ** best_terms, axis=1)\n",
    "\n"
   ]
  },
  {
   "cell_type": "markdown",
   "metadata": {},
   "source": [
    "Implement the RM3 retrieval model using the inverted-index data structures:"
   ]
  },
  {
   "cell_type": "code",
   "execution_count": 54,
   "metadata": {},
   "outputs": [],
   "source": [
    "query = \"document\"\n",
    "\n",
    "# TO DO: RM3 model"
   ]
  },
  {
   "cell_type": "markdown",
   "metadata": {},
   "source": [
    "### Evaluation\n",
    "Using the implemented RM3 model, run the experiments of section 4.\n"
   ]
  },
  {
   "cell_type": "markdown",
   "metadata": {},
   "source": [
    "## 4. Experiments and Results (20%)\n",
    "The goal of this section is to compare experimentally the different retrieval models. In this section you must:\n",
    "- Load the Cranfield documents.\n",
    "- Run the implemented retrieval models\n",
    "- Plot the precision-recall curves.\n",
    "- Compute MAP."
   ]
  },
  {
   "cell_type": "code",
   "execution_count": 1,
   "metadata": {
    "scrolled": false
   },
   "outputs": [
    {
     "name": "stderr",
     "output_type": "stream",
     "text": [
      "[nltk_data] Downloading package punkt to\n",
      "[nltk_data]     C:\\Users\\cesar\\AppData\\Roaming\\nltk_data...\n",
      "[nltk_data]   Package punkt is already up-to-date!\n",
      "[nltk_data] Downloading package stopwords to\n",
      "[nltk_data]     C:\\Users\\cesar\\AppData\\Roaming\\nltk_data...\n",
      "[nltk_data]   Package stopwords is already up-to-date!\n"
     ]
    },
    {
     "name": "stdout",
     "output_type": "stream",
     "text": [
      "Number of documents:  1400\n",
      "Number of queries:  225\n"
     ]
    }
   ],
   "source": [
    "### Load the cranfield documents && Run the implemented retrievel models\n",
    "import Data as dt\n",
    "import pandas as pd\n",
    "\n",
    "load_data_instead = False\n",
    "\n",
    "data = dt.Data()\n",
    "if load_data_instead:\n",
    "    data.load_data()\n",
    "else:\n",
    "    data.calculate()\n",
    "    data.save_data()"
   ]
  },
  {
   "cell_type": "code",
   "execution_count": 2,
   "metadata": {},
   "outputs": [
    {
     "data": {
      "text/html": [
       "<style  type=\"text/css\" >\n",
       "</style><table id=\"T_24a43912_eb85_11e9_a956_a49b4fb64115\" ><thead>    <tr>        <th class=\"blank level0\" ></th>        <th class=\"col_heading level0 col0\" >Retrievel Model</th>        <th class=\"col_heading level0 col1\" >P10</th>        <th class=\"col_heading level0 col2\" >MAP</th>    </tr></thead><tbody>\n",
       "                <tr>\n",
       "                        <th id=\"T_24a43912_eb85_11e9_a956_a49b4fb64115level0_row0\" class=\"row_heading level0 row0\" >0</th>\n",
       "                        <td id=\"T_24a43912_eb85_11e9_a956_a49b4fb64115row0_col0\" class=\"data row0 col0\" >VSM</td>\n",
       "                        <td id=\"T_24a43912_eb85_11e9_a956_a49b4fb64115row0_col1\" class=\"data row0 col1\" >0</td>\n",
       "                        <td id=\"T_24a43912_eb85_11e9_a956_a49b4fb64115row0_col2\" class=\"data row0 col2\" >7.03827</td>\n",
       "            </tr>\n",
       "            <tr>\n",
       "                        <th id=\"T_24a43912_eb85_11e9_a956_a49b4fb64115level0_row1\" class=\"row_heading level0 row1\" >1</th>\n",
       "                        <td id=\"T_24a43912_eb85_11e9_a956_a49b4fb64115row1_col0\" class=\"data row1 col0\" >LMD @ 0.1</td>\n",
       "                        <td id=\"T_24a43912_eb85_11e9_a956_a49b4fb64115row1_col1\" class=\"data row1 col1\" >0</td>\n",
       "                        <td id=\"T_24a43912_eb85_11e9_a956_a49b4fb64115row1_col2\" class=\"data row1 col2\" >6.68272</td>\n",
       "            </tr>\n",
       "            <tr>\n",
       "                        <th id=\"T_24a43912_eb85_11e9_a956_a49b4fb64115level0_row2\" class=\"row_heading level0 row2\" >2</th>\n",
       "                        <td id=\"T_24a43912_eb85_11e9_a956_a49b4fb64115row2_col0\" class=\"data row2 col0\" >LMD @ 0.99</td>\n",
       "                        <td id=\"T_24a43912_eb85_11e9_a956_a49b4fb64115row2_col1\" class=\"data row2 col1\" >0</td>\n",
       "                        <td id=\"T_24a43912_eb85_11e9_a956_a49b4fb64115row2_col2\" class=\"data row2 col2\" >6.697</td>\n",
       "            </tr>\n",
       "            <tr>\n",
       "                        <th id=\"T_24a43912_eb85_11e9_a956_a49b4fb64115level0_row3\" class=\"row_heading level0 row3\" >3</th>\n",
       "                        <td id=\"T_24a43912_eb85_11e9_a956_a49b4fb64115row3_col0\" class=\"data row3 col0\" >LMJM @ 100</td>\n",
       "                        <td id=\"T_24a43912_eb85_11e9_a956_a49b4fb64115row3_col1\" class=\"data row3 col1\" >0</td>\n",
       "                        <td id=\"T_24a43912_eb85_11e9_a956_a49b4fb64115row3_col2\" class=\"data row3 col2\" >6.09222</td>\n",
       "            </tr>\n",
       "            <tr>\n",
       "                        <th id=\"T_24a43912_eb85_11e9_a956_a49b4fb64115level0_row4\" class=\"row_heading level0 row4\" >4</th>\n",
       "                        <td id=\"T_24a43912_eb85_11e9_a956_a49b4fb64115row4_col0\" class=\"data row4 col0\" >LMJM @ 1000</td>\n",
       "                        <td id=\"T_24a43912_eb85_11e9_a956_a49b4fb64115row4_col1\" class=\"data row4 col1\" >0</td>\n",
       "                        <td id=\"T_24a43912_eb85_11e9_a956_a49b4fb64115row4_col2\" class=\"data row4 col2\" >6.08924</td>\n",
       "            </tr>\n",
       "            <tr>\n",
       "                        <th id=\"T_24a43912_eb85_11e9_a956_a49b4fb64115level0_row5\" class=\"row_heading level0 row5\" >5</th>\n",
       "                        <td id=\"T_24a43912_eb85_11e9_a956_a49b4fb64115row5_col0\" class=\"data row5 col0\" >BM25</td>\n",
       "                        <td id=\"T_24a43912_eb85_11e9_a956_a49b4fb64115row5_col1\" class=\"data row5 col1\" >0</td>\n",
       "                        <td id=\"T_24a43912_eb85_11e9_a956_a49b4fb64115row5_col2\" class=\"data row5 col2\" >--</td>\n",
       "            </tr>\n",
       "    </tbody></table>"
      ],
      "text/plain": [
       "<pandas.io.formats.style.Styler at 0x1c68df24828>"
      ]
     },
     "execution_count": 2,
     "metadata": {},
     "output_type": "execute_result"
    }
   ],
   "source": [
    "### Show Table Data\n",
    "data_table = data.get_data_table()\n",
    "df = pd.DataFrame(data_table)\n",
    "df.style"
   ]
  },
  {
   "cell_type": "code",
   "execution_count": 4,
   "metadata": {
    "scrolled": true
   },
   "outputs": [
    {
     "name": "stdout",
     "output_type": "stream",
     "text": [
      "\n",
      "\n",
      "\n"
     ]
    },
    {
     "data": {
      "image/png": "[encoded data removed]",
      "text/plain": [
       "<Figure size 432x288 with 2 Axes>"
      ]
     },
     "metadata": {
      "needs_background": "light"
     },
     "output_type": "display_data"
    }
   ],
   "source": [
    "### Plot Data\n",
    "precision_vsm = data.results['uni']['VSM']['precision_vsm']\n",
    "recall = data.results['uni']['VSM']['recall']\n",
    "map_vsm = data.results['uni']['VSM']['map_vsm']\n",
    "data.statistics.plot_precision_recall(precision_vsm, recall, map_vsm)\n"
   ]
  },
  {
   "cell_type": "markdown",
   "metadata": {},
   "source": [
    "### Results and discussion\n",
    "\n",
    "\n",
    "The following table summarizes the MAP and P10 results:\n",
    "\n",
    "| Retrieval Model | P10 | MAP   |\n",
    "|-----------------|-----|-------|\n",
    "| VSM             | ?   | {{map_vsm}} |\n",
    "| LMD             | ?   | ? |\n",
    "| LMJM             | ?   | ? |\n",
    "| BM25             | ?   | ? |\n",
    "\n",
    "![](results/prec-recall.png)"
   ]
  },
  {
   "cell_type": "code",
   "execution_count": null,
   "metadata": {},
   "outputs": [],
   "source": []
  }
 ],
 "metadata": {
  "kernelspec": {
   "display_name": "Python 3",
   "language": "python",
   "name": "python3"
  },
  "language_info": {
   "codemirror_mode": {
    "name": "ipython",
    "version": 3
   },
   "file_extension": ".py",
   "mimetype": "text/x-python",
   "name": "python",
   "nbconvert_exporter": "python",
   "pygments_lexer": "ipython3",
   "version": "3.7.3"
  }
 },
 "nbformat": 4,
 "nbformat_minor": 2
}
