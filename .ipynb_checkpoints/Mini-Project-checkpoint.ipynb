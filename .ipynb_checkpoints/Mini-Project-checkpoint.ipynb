{
 "cells": [
  {
   "cell_type": "markdown",
   "metadata": {},
   "source": [
    "# Mini-Project: A Simple Search Engine from Scratch\n",
    "In this mini-project you will study the fundaments of IR.\n",
    "\n",
    "The mini-project is divided as follow:\n",
    "\n",
    "- **Week 1**: Study the provided notebook. Using the VSM retrieval model, run experiments *(section 4)* with the provided collection. Compute the metrics MAP, P10 and precision-recall curves.\n",
    "\n",
    "- **Week 2**: Implement the LMD and LMJM retrieval models and repeat the experiments with the new models. Compare it to the previous retrieval models.\n",
    "\n",
    "- **Week 3**: Implement the RM3 retrieval model and repeat the experiments with the new models. Compare it to the previous retrieval models.\n",
    "\n",
    "- **Week 4**: Implement the BM25 retrieval model and repeat the experiments with the new models. Compare it to the previous retrieval models.\n",
    "\n",
    "**Submission date: 15 October**\n",
    "\n",
    "## 1. Vector Space Model\n",
    "\n",
    "In the vector space model, documents are represented as a vector $d_j=(w_{d_j,1},w_{d_j,2}, ..., w_{d_j,n})$ of $n$ word frequencies -- most of the words are equal to 0. Queries are also represented as a vector of words $q_j=(w_{q_j,1},w_{q_j,2}, ..., w_{q_j,n})$. In the vector space model, each document word is weighted by their *tf-idf*\n",
    "\n",
    "$${tf-idf} = tf*\\frac{|D|}{log (df(w_a))}$$\n",
    "\n",
    "The vector space model is based on the cosine similarity, which measures the angle between the two vectors in the 1-unit sphere:\n",
    "\n",
    "$$cos(q,d) = \\frac{\\sum_t q_t\\cdot d_t}{\\sqrt{\\sum_t q^2_t}\\cdot \\sqrt{\\sum_t d^2_t }}$$\n",
    "\n",
    "\n",
    "Below you can read the corresponding matricial implementation for multiple documents.\n",
    "\n",
    "### Parser\n",
    "Using the CountVectorizer class of Scikit-Learn, try the different parser options by generating unigrams and bigrams with different stop words.\n"
   ]
  },
  {
   "cell_type": "code",
   "execution_count": 31,
   "metadata": {},
   "outputs": [],
   "source": [
    "import numpy as np\n",
    "from sklearn.feature_extraction.text import CountVectorizer\n",
    "\n",
    "vectorizer = CountVectorizer()\n",
    "bigram_vectorizer = CountVectorizer(ngram_range=(1, 2), token_pattern=r'\\b\\w+\\b', \n",
    "                                    min_df=1, stop_words = {'the', 'is'})\n",
    "\n",
    "corpus = ['This is the first document.',\n",
    "'This is the second second document.',\n",
    "'And the third one.',\n",
    "'Is this the first document?', ]"
   ]
  },
  {
   "cell_type": "code",
   "execution_count": 32,
   "metadata": {},
   "outputs": [
    {
     "data": {
      "text/plain": [
       "['this', 'is', 'text', 'document', 'to', 'analyze']"
      ]
     },
     "execution_count": 32,
     "metadata": {},
     "output_type": "execute_result"
    }
   ],
   "source": [
    "uni_analyze = vectorizer.build_analyzer()\n",
    "uni_analyze(\"This is a text document to analyze.\")"
   ]
  },
  {
   "cell_type": "code",
   "execution_count": 33,
   "metadata": {},
   "outputs": [
    {
     "name": "stdout",
     "output_type": "stream",
     "text": [
      "['and', 'document', 'first', 'is', 'one', 'second', 'the', 'third', 'this']\n",
      "\n",
      "[[0 1 1 1 0 0 1 0 1]\n",
      " [0 1 0 1 0 2 1 0 1]\n",
      " [1 0 0 0 1 0 1 1 0]\n",
      " [0 1 1 1 0 0 1 0 1]]\n"
     ]
    }
   ],
   "source": [
    "tf_uni = vectorizer.fit_transform(corpus).toarray()\n",
    "print(vectorizer.get_feature_names())\n",
    "print()\n",
    "print(tf_uni)"
   ]
  },
  {
   "cell_type": "code",
   "execution_count": 34,
   "metadata": {},
   "outputs": [
    {
     "data": {
      "text/plain": [
       "['this',\n",
       " 'a',\n",
       " 'text',\n",
       " 'document',\n",
       " 'to',\n",
       " 'analyze',\n",
       " 'this a',\n",
       " 'a text',\n",
       " 'text document',\n",
       " 'document to',\n",
       " 'to analyze']"
      ]
     },
     "execution_count": 34,
     "metadata": {},
     "output_type": "execute_result"
    }
   ],
   "source": [
    "bi_analyze = bigram_vectorizer.build_analyzer()\n",
    "bi_analyze(\"This is a text document to analyze.\") "
   ]
  },
  {
   "cell_type": "code",
   "execution_count": 35,
   "metadata": {},
   "outputs": [
    {
     "name": "stdout",
     "output_type": "stream",
     "text": [
      "['and', 'and third', 'document', 'first', 'first document', 'one', 'second', 'second document', 'second second', 'third', 'third one', 'this', 'this first', 'this second']\n",
      "\n",
      "[[0 0 1 1 1 0 0 0 0 0 0 1 1 0]\n",
      " [0 0 1 0 0 0 2 1 1 0 0 1 0 1]\n",
      " [1 1 0 0 0 1 0 0 0 1 1 0 0 0]\n",
      " [0 0 1 1 1 0 0 0 0 0 0 1 1 0]]\n"
     ]
    }
   ],
   "source": [
    "tf_bi = bigram_vectorizer.fit_transform(corpus).toarray()\n",
    "print(bigram_vectorizer.get_feature_names())\n",
    "print()\n",
    "print(tf_bi)"
   ]
  },
  {
   "cell_type": "code",
   "execution_count": 36,
   "metadata": {},
   "outputs": [
    {
     "data": {
      "text/plain": [
       "2"
      ]
     },
     "execution_count": 36,
     "metadata": {},
     "output_type": "execute_result"
    }
   ],
   "source": [
    "bigram_vectorizer.vocabulary_.get('document')"
   ]
  },
  {
   "cell_type": "markdown",
   "metadata": {},
   "source": [
    "### TF IDF and the cosine similarity"
   ]
  },
  {
   "cell_type": "code",
   "execution_count": 38,
   "metadata": {},
   "outputs": [
    {
     "name": "stdout",
     "output_type": "stream",
     "text": [
      "\n",
      "tf:\n",
      " [[0 1 1 1 0 0 1 0 1]\n",
      " [0 1 0 1 0 2 1 0 1]\n",
      " [1 0 0 0 1 0 1 1 0]\n",
      " [0 1 1 1 0 0 1 0 1]]\n",
      "\n",
      "idf:\n",
      " [1.38629436 0.28768207 0.69314718 0.28768207 1.38629436 1.38629436\n",
      " 0.         1.38629436 0.28768207]\n",
      "\n",
      "idf:\n",
      " [1.38629436 0.         0.69314718 0.         1.38629436 1.38629436\n",
      " 0.         1.38629436 0.        ]\n",
      "\n",
      "tfidf:\n",
      " [[0.         0.28768207 0.69314718 0.28768207 0.         0.\n",
      "  0.         0.         0.28768207]\n",
      " [0.         0.28768207 0.         0.28768207 0.         2.77258872\n",
      "  0.         0.         0.28768207]\n",
      " [1.38629436 0.         0.         0.         1.38629436 0.\n",
      "  0.         1.38629436 0.        ]\n",
      " [0.         0.28768207 0.69314718 0.28768207 0.         0.\n",
      "  0.         0.         0.28768207]]\n",
      "\n",
      "docnorms:\n",
      " [0.85366032 2.81700748 2.40113227 0.85366032]\n"
     ]
    }
   ],
   "source": [
    "termCollFreq = np.sum(tf_uni != 0, axis = 0)\n",
    "docLen = np.sum(tf_uni, axis = 1)\n",
    "\n",
    "idf = np.log(np.size(corpus)/termCollFreq)\n",
    "idf_rows = np.dot(np.ones((np.size(corpus),1)), idf.reshape(1,np.size(idf)))\n",
    "tfidf = tf_uni*idf_rows\n",
    "\n",
    "docNorms = np.sqrt(np.sum(np.power(tfidf,2), axis = 1))\n",
    "        \n",
    "print(\"\\ntf:\\n\", tf_uni)\n",
    "print(\"\\nidf:\\n\", idf)\n",
    "print(\"\\nidf:\\n\", (idf > 0.3)* idf)\n",
    "print(\"\\ntfidf:\\n\", tfidf)\n",
    "print(\"\\ndocnorms:\\n\", docNorms)"
   ]
  },
  {
   "cell_type": "code",
   "execution_count": 39,
   "metadata": {},
   "outputs": [
    {
     "name": "stdout",
     "output_type": "stream",
     "text": [
      "[[0.3369983  0.10212329 0.         0.3369983 ]]\n"
     ]
    }
   ],
   "source": [
    "query = 'document'\n",
    "query_vector = vectorizer.transform([query]).toarray()\n",
    "queryNorm = np.sqrt(np.sum(np.power(query_vector, 2), axis = 1))\n",
    "\n",
    "doc_scores = np.dot(query_vector, tfidf.T)/(docNorms*queryNorm)\n",
    "\n",
    "print(doc_scores)"
   ]
  },
  {
   "cell_type": "markdown",
   "metadata": {},
   "source": [
    "### Inverted Index\n",
    "The matricial implementation is not scalable because it computes the similarity for all documents in the collection. However, one should only compute the similarity for the documents containing the query words. This is where the inverted index comes to our rescue.\n",
    "\n",
    "Read the inverted index implementation presented next. Describe in your own words how the cosine similarity should be implemented with the inverted index:\n"
   ]
  },
  {
   "cell_type": "code",
   "execution_count": 9,
   "metadata": {
    "scrolled": false
   },
   "outputs": [
    {
     "name": "stdout",
     "output_type": "stream",
     "text": [
      "==== Creating the posting list for token \" and \"\n",
      "[(1, 2)]\n",
      "==== Creating the posting list for token \" document \"\n",
      "[(1, 0), (1, 1), (1, 3)]\n",
      "==== Creating the posting list for token \" first \"\n",
      "[(1, 0), (1, 3)]\n",
      "==== Creating the posting list for token \" is \"\n",
      "[(1, 0), (1, 1), (1, 3)]\n",
      "==== Creating the posting list for token \" one \"\n",
      "[(1, 2)]\n",
      "==== Creating the posting list for token \" second \"\n",
      "[(2, 1)]\n",
      "==== Creating the posting list for token \" the \"\n",
      "[(1, 0), (1, 1), (1, 2), (1, 3)]\n",
      "==== Creating the posting list for token \" third \"\n",
      "[(1, 2)]\n",
      "==== Creating the posting list for token \" this \"\n",
      "[(1, 0), (1, 1), (1, 3)]\n"
     ]
    }
   ],
   "source": [
    "features = vectorizer.get_feature_names()\n",
    "\n",
    "i = 0\n",
    "inverted_index = dict()\n",
    "for token in features:\n",
    "    print(\"==== Creating the posting list for token \\\"\", token, \"\\\"\")\n",
    "    docs_with_token = np.where(tf_uni[:,i] != 0)\n",
    "    len = np.size(docs_with_token,1)\n",
    "    \n",
    "    postings_matrix = np.concatenate([tf_uni[docs_with_token,i], docs_with_token])\n",
    "    postings_list = list(map(tuple, postings_matrix.T))\n",
    "    inverted_index[token] = postings_list\n",
    "\n",
    "    print(postings_list)\n",
    "    i = i + 1"
   ]
  },
  {
   "cell_type": "markdown",
   "metadata": {},
   "source": [
    "### Evaluation\n",
    "Using the Vector Space Model, run the experiments of section 4.\n",
    "\n",
    "We advice you to use an external Python IDE for editing more complex implementations. **The Notebook should be used as a notebook, not as an IDE**. Your implementations should be organized on external classes as below:"
   ]
  },
  {
   "cell_type": "code",
   "execution_count": 10,
   "metadata": {},
   "outputs": [
    {
     "data": {
      "text/plain": [
       "array([[0.33695882, 0.10211967, 0.        , 0.33695882]])"
      ]
     },
     "execution_count": 10,
     "metadata": {},
     "output_type": "execute_result"
    }
   ],
   "source": [
    "import RetrievalModelsMatrix as b\n",
    "\n",
    "aa = b.RetrievalModelsMatrix(tf_uni, vectorizer)\n",
    "\n",
    "aa.score_vsm('document')"
   ]
  },
  {
   "cell_type": "markdown",
   "metadata": {},
   "source": [
    "## 2. Retrieval Models\n",
    "\n",
    "In this section you will implement three of the most popular retrieval model. After finishing each retrieval model implementation, run the experiments of section 4 with the new model.\n",
    "\n",
    "### Language Model with Jelineck-Mercer Smoothing (20%)\n",
    "The family of Language Models for retrieval build on the density distribution of the terms over each document and the density distribution of terms over the collection of documents.\n",
    "\n",
    "There several ways of avoiding the zero probabilities problem with term smoothing.  The Jelineck-Mercer smoothing model uses a mixture of probabilities between the document model $M_d$ and the corpus model $M_c$:\n",
    "\n",
    "$$p(q|d,C)= \\lambda \\cdot p(q|M_d) + (1-\\lambda)\\cdot p(q|M_c)$$\n",
    "\n",
    "Implement the LMJM retrieval model using the matricial definitions:"
   ]
  },
  {
   "cell_type": "code",
   "execution_count": 11,
   "metadata": {},
   "outputs": [
    {
     "name": "stdout",
     "output_type": "stream",
     "text": [
      "[[0.3369983  0.10212329 0.         0.3369983 ]]\n"
     ]
    }
   ],
   "source": [
    "query = \"document\"\n",
    "\n",
    "# TO DO: LMJM model\n",
    "\n",
    "print(doc_scores)"
   ]
  },
  {
   "cell_type": "markdown",
   "metadata": {},
   "source": [
    "Implement the LMJM retrieval model using the inverted-index data structures:"
   ]
  },
  {
   "cell_type": "code",
   "execution_count": 12,
   "metadata": {},
   "outputs": [
    {
     "name": "stdout",
     "output_type": "stream",
     "text": [
      "[[0.3369983  0.10212329 0.         0.3369983 ]]\n"
     ]
    }
   ],
   "source": [
    "query = \"document\"\n",
    "\n",
    "# TO DO: LMJM model\n",
    "\n",
    "print(doc_scores)"
   ]
  },
  {
   "cell_type": "markdown",
   "metadata": {},
   "source": [
    "### Language Model with Dirichlet Smoothing (20%)\n",
    "Another way of avoiding the zero probabilities problem is with the Dirichlet smoothing model that uses a mixture of frequencies between the term document frequencies $f_{t,c}$ and the term corpus frequency $\\mu \\cdot M_c(t)$:\n",
    "\n",
    "$$p(t|M_d, M_c)= \\frac{f_{t,d}+\\mu \\cdot M_c(t)}{|d| + \\mu}$$\n",
    "\n",
    "Implement the LMD retrieval model using the matricial definitions:\n"
   ]
  },
  {
   "cell_type": "code",
   "execution_count": 13,
   "metadata": {},
   "outputs": [
    {
     "name": "stdout",
     "output_type": "stream",
     "text": [
      "[[0.3369983  0.10212329 0.         0.3369983 ]]\n"
     ]
    }
   ],
   "source": [
    "query = \"document\"\n",
    "\n",
    "# TO DO: LMD model\n",
    "\n",
    "print(doc_scores)"
   ]
  },
  {
   "cell_type": "markdown",
   "metadata": {},
   "source": [
    "Implement the LMD retrieval model using the inverted-index data structures:"
   ]
  },
  {
   "cell_type": "code",
   "execution_count": 14,
   "metadata": {},
   "outputs": [
    {
     "name": "stdout",
     "output_type": "stream",
     "text": [
      "[[0.3369983  0.10212329 0.         0.3369983 ]]\n"
     ]
    }
   ],
   "source": [
    "query = \"document\"\n",
    "\n",
    "# TO DO: LMD model\n",
    "\n",
    "print(doc_scores)"
   ]
  },
  {
   "cell_type": "markdown",
   "metadata": {},
   "source": [
    "### BM 25 (20%)\n",
    "\n",
    "The BM25 is model is an evolution of the tf-idf weighting based on a two Poisson distribution per term. It is obviously impossible to estimate each term distribution -- the approximation to the two Poisson distribution is given by the expression:\n",
    "\n",
    "$$RSV = \\sum q_t \\cdot \\frac{f_{t,d}(k_1 + 1)}{k_1 ((1-b) + b(\\frac{l_d}{l_avg})) + f_{t,d} }\\cdot IDF_t$$\n",
    "\n",
    "Implement the BM5 retrieval model using the matricial definitions:"
   ]
  },
  {
   "cell_type": "code",
   "execution_count": 15,
   "metadata": {},
   "outputs": [
    {
     "name": "stdout",
     "output_type": "stream",
     "text": [
      "[[0.3369983  0.10212329 0.         0.3369983 ]]\n"
     ]
    }
   ],
   "source": [
    "query = \"document\"\n",
    "\n",
    "# TO DO: BM25 model\n",
    "\n",
    "print(doc_scores)"
   ]
  },
  {
   "cell_type": "markdown",
   "metadata": {},
   "source": [
    "Implement the BM25 retrieval model using the inverted-index data structures:"
   ]
  },
  {
   "cell_type": "code",
   "execution_count": 16,
   "metadata": {},
   "outputs": [
    {
     "name": "stdout",
     "output_type": "stream",
     "text": [
      "[[0.3369983  0.10212329 0.         0.3369983 ]]\n"
     ]
    }
   ],
   "source": [
    "query = \"document\"\n",
    "\n",
    "# TO DO: BM25 model\n",
    "\n",
    "print(doc_scores)"
   ]
  },
  {
   "cell_type": "markdown",
   "metadata": {},
   "source": [
    "### Evaluation\n",
    "Using the implemented Retrieval Models, run the experiments of section 4.\n"
   ]
  },
  {
   "cell_type": "markdown",
   "metadata": {},
   "source": [
    "## 3. Pseudo-Relevance Feedback (RM3) (20%)\n",
    "\n",
    "Using the RM3 Model, run the experiments of section 4.\n",
    "\n",
    "Implement the RM3 retrieval model using the matricial definitions:"
   ]
  },
  {
   "cell_type": "code",
   "execution_count": 17,
   "metadata": {},
   "outputs": [
    {
     "name": "stdout",
     "output_type": "stream",
     "text": [
      "[[0.3369983  0.10212329 0.         0.3369983 ]]\n"
     ]
    }
   ],
   "source": [
    "query = \"document\"\n",
    "\n",
    "# TO DO: RM3 model\n",
    "\n",
    "print(doc_scores)"
   ]
  },
  {
   "cell_type": "markdown",
   "metadata": {},
   "source": [
    "Implement the RM3 retrieval model using the inverted-index data structures:"
   ]
  },
  {
   "cell_type": "code",
   "execution_count": 18,
   "metadata": {},
   "outputs": [
    {
     "name": "stdout",
     "output_type": "stream",
     "text": [
      "[[0.3369983  0.10212329 0.         0.3369983 ]]\n"
     ]
    }
   ],
   "source": [
    "query = \"document\"\n",
    "\n",
    "# TO DO: RM3 model\n",
    "\n",
    "print(doc_scores)"
   ]
  },
  {
   "cell_type": "markdown",
   "metadata": {},
   "source": [
    "### Evaluation\n",
    "Using the implemented RM3 model, run the experiments of section 4.\n"
   ]
  },
  {
   "cell_type": "markdown",
   "metadata": {},
   "source": [
    "## 4. Experiments and Results (20%)\n",
    "The goal of this section is to compare experimentally the different retrieval models. In this section you must:\n",
    "- Load the Cranfield documents.\n",
    "- Run the implemented retrieval models\n",
    "- Plot the precision-recall curves.\n",
    "- Compute MAP."
   ]
  },
  {
   "cell_type": "code",
   "execution_count": 3,
   "metadata": {
    "scrolled": false
   },
   "outputs": [
    {
     "name": "stdout",
     "output_type": "stream",
     "text": [
      "Number of documents:  1400\n",
      "Number of queries:  225\n",
      "qid = 1 VSM     AP= 0.2740620751552297\n",
      "qid = 2 VSM     AP= 0.19369912356286587\n",
      "qid = 3 VSM     AP= 0.6198660714285715\n",
      "qid = 4 VSM     AP= 0.5588235294117647\n",
      "qid = 5 VSM     AP= 0.14890919158361018\n",
      "qid = 6 VSM     AP= 0.187130006641832\n",
      "qid = 7 VSM     AP= 0.09469329660238751\n",
      "qid = 8 VSM     AP= 0.2181654963496516\n",
      "qid = 9 VSM     AP= 1.0\n",
      "qid = 10 VSM     AP= 0.23675672424945682\n",
      "qid = 11 VSM     AP= 0.18005676788280872\n",
      "qid = 12 VSM     AP= 0.2888427464008859\n",
      "qid = 13 VSM     AP= 0.002857142857142857\n",
      "qid = 14 VSM     AP= 0.6428571428571428\n",
      "qid = 15 VSM     AP= 0.6428571428571428\n",
      "qid = 16 VSM     AP= 0.19625504967791244\n",
      "qid = 17 VSM     AP= 0.2564935064935065\n",
      "qid = 18 VSM     AP= 0.12208910909651809\n",
      "qid = 19 VSM     AP= 0.04254775436659339\n",
      "qid = 20 VSM     AP= 0.7104457271123938\n",
      "qid = 21 VSM     AP= 0.17350589225589227\n",
      "qid = 22 VSM     AP= 0.0007142857142857143\n",
      "qid = 23 VSM     AP= 0.2573881862069863\n",
      "qid = 24 VSM     AP= 0.33333333333333337\n",
      "qid = 25 VSM     AP= 0.5793508448513609\n",
      "qid = 26 VSM     AP= 0.29736199473041575\n",
      "qid = 27 VSM     AP= 0.07017914334987506\n",
      "qid = 28 VSM     AP= 0.006408703726131363\n",
      "qid = 29 VSM     AP= 0.3170006010935253\n",
      "qid = 30 VSM     AP= 0.05263319297965574\n",
      "qid = 31 VSM     AP= 0.0009242144177449168\n",
      "qid = 32 VSM     AP= 0.13111215995431486\n",
      "qid = 33 VSM     AP= 0.4888888888888888\n",
      "qid = 34 VSM     AP= 0.5160714285714285\n",
      "qid = 35 VSM     AP= 0.03115147442485572\n",
      "qid = 36 VSM     AP= 0.02465348784367189\n",
      "qid = 37 VSM     AP= 0.19875728699966294\n",
      "qid = 38 VSM     AP= 0.0539138907342457\n",
      "qid = 39 VSM     AP= 0.14258520920428827\n",
      "qid = 40 VSM     AP= 0.07902312230700788\n",
      "qid = 41 VSM     AP= 0.7666666666666666\n",
      "qid = 42 VSM     AP= 0.21649790849586456\n",
      "qid = 43 VSM     AP= 0.7270833333333332\n",
      "qid = 44 VSM     AP= 0.002142857142857143\n",
      "qid = 45 VSM     AP= 0.18729164369368248\n",
      "qid = 46 VSM     AP= 0.432028834352207\n",
      "qid = 47 VSM     AP= 0.29421840084263506\n",
      "qid = 48 VSM     AP= 0.1529062262820805\n",
      "qid = 49 VSM     AP= 0.1827956989247312\n",
      "qid = 50 VSM     AP= 0.18959653146472868\n",
      "qid = 51 VSM     AP= 0.4824400362861613\n",
      "qid = 52 VSM     AP= 0.6597744360902256\n",
      "qid = 53 VSM     AP= 0.2996874330172532\n",
      "qid = 54 VSM     AP= 0.08473020546981776\n",
      "qid = 55 VSM     AP= 0.254408428147496\n",
      "qid = 56 VSM     AP= 0.18597808169703997\n",
      "qid = 57 VSM     AP= 0.08300143018574195\n",
      "qid = 58 VSM     AP= 0.13201041398606944\n",
      "qid = 59 VSM     AP= 0.050524072373638304\n",
      "qid = 60 VSM     AP= 0.5021706809396372\n",
      "qid = 61 VSM     AP= 0.4847246203178407\n",
      "qid = 62 VSM     AP= 0.019390018194366018\n",
      "qid = 63 VSM     AP= 0.04824197120708748\n",
      "qid = 64 VSM     AP= 0.6666666666666666\n",
      "qid = 65 VSM     AP= 0.3638939127950195\n",
      "qid = 66 VSM     AP= 0.1331691919191919\n",
      "qid = 67 VSM     AP= 0.5765799413983304\n",
      "qid = 68 VSM     AP= 0.04267455729883476\n",
      "qid = 69 VSM     AP= 0.08975908492677336\n",
      "qid = 70 VSM     AP= 0.06933430399561302\n",
      "qid = 71 VSM     AP= 0.047386699639310526\n",
      "qid = 72 VSM     AP= 0.05123070665908313\n",
      "qid = 73 VSM     AP= 0.3073330339591228\n",
      "qid = 74 VSM     AP= 0.11288263828914236\n",
      "qid = 75 VSM     AP= 0.22314922036153337\n",
      "qid = 76 VSM     AP= 0.17842044086672562\n",
      "qid = 77 VSM     AP= 0.5794973544973545\n",
      "qid = 78 VSM     AP= 0.5317460317460317\n",
      "qid = 79 VSM     AP= 0.0711262246475784\n",
      "qid = 80 VSM     AP= 0.07866758241758241\n",
      "qid = 81 VSM     AP= 0.17261904761904762\n",
      "qid = 82 VSM     AP= 0.3877183833116037\n",
      "qid = 83 VSM     AP= 0.17083333333333334\n",
      "qid = 84 VSM     AP= 0.416813584438339\n",
      "qid = 85 VSM     AP= 0.02270078429438169\n",
      "qid = 86 VSM     AP= 0.5\n",
      "qid = 87 VSM     AP= 0.01343759262771059\n",
      "qid = 88 VSM     AP= 0.7884920634920635\n",
      "qid = 89 VSM     AP= 0.1898981206210122\n",
      "qid = 90 VSM     AP= 0.3463685946744924\n",
      "qid = 91 VSM     AP= 0.2728631183927079\n",
      "qid = 92 VSM     AP= 0.5930467003681275\n",
      "qid = 93 VSM     AP= 0.5\n",
      "qid = 94 VSM     AP= 0.5223638827707342\n",
      "qid = 95 VSM     AP= 0.2777777777777778\n",
      "qid = 96 VSM     AP= 0.3607295411300924\n",
      "qid = 97 VSM     AP= 0.12744070720568\n",
      "qid = 98 VSM     AP= 0.036214117686284006\n",
      "qid = 99 VSM     AP= 0.2792857142857143\n",
      "qid = 100 VSM     AP= 0.13620029781990428\n",
      "qid = 101 VSM     AP= 0.7175724637681159\n",
      "qid = 102 VSM     AP= 0.3337629835917507\n",
      "qid = 103 VSM     AP= 0.009188861985472155\n",
      "qid = 104 VSM     AP= 0.044216032355918596\n",
      "qid = 105 VSM     AP= 0.426682729435023\n",
      "qid = 106 VSM     AP= 0.12943223443223445\n",
      "qid = 107 VSM     AP= 0.22781813711245727\n",
      "qid = 108 VSM     AP= 0.7571428571428571\n",
      "qid = 109 VSM     AP= 0.050752320342855664\n",
      "qid = 110 VSM     AP= 0.2895410095433659\n",
      "qid = 111 VSM     AP= 0.2763702849560877\n",
      "qid = 112 VSM     AP= 0.375\n",
      "qid = 113 VSM     AP= 0.3446119098293011\n",
      "qid = 114 VSM     AP= 0.10790403349248344\n",
      "qid = 115 VSM     AP= 0.023971305068942652\n",
      "qid = 116 VSM     AP= 0.21547305505936348\n",
      "qid = 117 VSM     AP= 0.025158227848101268\n",
      "qid = 118 VSM     AP= 0.15544871794871795\n",
      "qid = 119 VSM     AP= 1.0\n",
      "qid = 120 VSM     AP= 0.46924359293837203\n",
      "qid = 121 VSM     AP= 0.5065891472868217\n",
      "qid = 122 VSM     AP= 0.29733289786963\n",
      "qid = 123 VSM     AP= 0.09698275862068965\n",
      "qid = 124 VSM     AP= 0.004174742672817127\n",
      "qid = 125 VSM     AP= 0.2834814223846022\n",
      "qid = 126 VSM     AP= 0.2674988682341623\n",
      "qid = 127 VSM     AP= 0.18162636007224353\n",
      "qid = 128 VSM     AP= 0.016237901171676006\n",
      "qid = 129 VSM     AP= 0.3159888713705985\n",
      "qid = 130 VSM     AP= 0.5700345065562458\n",
      "qid = 131 VSM     AP= 0.2967715903377668\n",
      "qid = 132 VSM     AP= 0.7656919584009136\n",
      "qid = 133 VSM     AP= 0.1986846486846487\n",
      "qid = 134 VSM     AP= 0.11011904761904762\n",
      "qid = 135 VSM     AP= 0.5358925796425796\n",
      "qid = 136 VSM     AP= 0.08367190720131897\n",
      "qid = 137 VSM     AP= 0.18353174603174602\n",
      "qid = 138 VSM     AP= 0.045408163265306126\n",
      "qid = 139 VSM     AP= 0.006568319720705303\n",
      "qid = 140 VSM     AP= 0.0679717465328435\n",
      "qid = 141 VSM     AP= 0.2570888482068332\n",
      "qid = 142 VSM     AP= 0.125\n",
      "qid = 143 VSM     AP= 0.6666666666666666\n",
      "qid = 144 VSM     AP= 0.7028189202102245\n",
      "qid = 145 VSM     AP= 0.49385302197802194\n",
      "qid = 146 VSM     AP= 0.5833333333333333\n",
      "qid = 147 VSM     AP= 0.23579201911625494\n",
      "qid = 148 VSM     AP= 0.2579866454174419\n",
      "qid = 149 VSM     AP= 0.45407593137856295\n",
      "qid = 150 VSM     AP= 0.5833333333333333\n",
      "qid = 151 VSM     AP= 0.030825888995208044\n",
      "qid = 152 VSM     AP= 0.10057705404608706\n",
      "qid = 153 VSM     AP= 0.2928514003003799\n",
      "qid = 154 VSM     AP= 1.0\n",
      "qid = 155 VSM     AP= 0.34334435084435083\n",
      "qid = 156 VSM     AP= 0.557949842860464\n",
      "qid = 157 VSM     AP= 0.3350474995901093\n",
      "qid = 158 VSM     AP= 0.31536125392532716\n",
      "qid = 159 VSM     AP= 0.11813182899216686\n",
      "qid = 160 VSM     AP= 0.0506275613866577\n",
      "qid = 161 VSM     AP= 0.39539449911790336\n",
      "qid = 162 VSM     AP= 0.1238068660288124\n",
      "qid = 163 VSM     AP= 0.2327485380116959\n",
      "qid = 164 VSM     AP= 0.39703115909072284\n",
      "qid = 165 VSM     AP= 0.5833333333333333\n",
      "qid = 166 VSM     AP= 0.029900332330077176\n",
      "qid = 167 VSM     AP= 0.10263157894736842\n",
      "qid = 168 VSM     AP= 0.12333333333333332\n",
      "qid = 169 VSM     AP= 0.16743022986509176\n",
      "qid = 170 VSM     AP= 0.42678432678432676\n",
      "qid = 171 VSM     AP= 0.5138888888888888\n",
      "qid = 172 VSM     AP= 0.8041666666666667\n",
      "qid = 173 VSM     AP= 0.8333333333333333\n",
      "qid = 174 VSM     AP= 0.05339757585642671\n",
      "qid = 175 VSM     AP= 0.037097112880902915\n",
      "qid = 176 VSM     AP= 0.08276796230801242\n",
      "qid = 177 VSM     AP= 0.6914285714285714\n",
      "qid = 178 VSM     AP= 0.5409090909090909\n",
      "qid = 179 VSM     AP= 0.33545069570477914\n",
      "qid = 180 VSM     AP= 0.41887686248588507\n",
      "qid = 181 VSM     AP= 0.24050369527463591\n",
      "qid = 182 VSM     AP= 0.5833333333333333\n",
      "qid = 183 VSM     AP= 0.608349890563513\n",
      "qid = 184 VSM     AP= 0.15915326629612342\n",
      "qid = 185 VSM     AP= 0.7179471218686906\n",
      "qid = 186 VSM     AP= 0.24332778722467102\n",
      "qid = 187 VSM     AP= 0.10485599480882499\n",
      "qid = 188 VSM     AP= 0.32690220236471784\n",
      "qid = 189 VSM     AP= 0.17729282499504204\n",
      "qid = 190 VSM     AP= 0.39809523809523806\n",
      "qid = 191 VSM     AP= 0.7313321693806473\n",
      "qid = 192 VSM     AP= 0.6712765957446809\n",
      "qid = 193 VSM     AP= 0.5992997198879552\n",
      "qid = 194 VSM     AP= 0.2105927698032961\n",
      "qid = 195 VSM     AP= 0.10093450542488318\n",
      "qid = 196 VSM     AP= 0.13663702463309782\n",
      "qid = 197 VSM     AP= 0.7777777777777777\n",
      "qid = 198 VSM     AP= 0.2861607142857143\n",
      "qid = 199 VSM     AP= 0.16107219169719172\n",
      "qid = 200 VSM     AP= 0.12654320987654322\n",
      "qid = 201 VSM     AP= 0.1267419040411516\n"
     ]
    },
    {
     "name": "stdout",
     "output_type": "stream",
     "text": [
      "qid = 202 VSM     AP= 0.19126403597068328\n",
      "qid = 203 VSM     AP= 0.16356696603520426\n",
      "qid = 204 VSM     AP= 0.10296050591684036\n",
      "qid = 205 VSM     AP= 0.07974137931034483\n",
      "qid = 206 VSM     AP= 0.2636469221835075\n",
      "qid = 207 VSM     AP= 0.29695634153080963\n",
      "qid = 208 VSM     AP= 0.5981842231842233\n",
      "qid = 209 VSM     AP= 0.0763377652745669\n",
      "qid = 210 VSM     AP= 0.38672615448164377\n",
      "qid = 211 VSM     AP= 0.12548339033870118\n",
      "qid = 212 VSM     AP= 0.46136492915665234\n",
      "qid = 213 VSM     AP= 0.6972875830531333\n",
      "qid = 214 VSM     AP= 0.10853096434027916\n",
      "qid = 215 VSM     AP= 0.04777777777777778\n",
      "qid = 216 VSM     AP= 0.002207505518763797\n",
      "qid = 217 VSM     AP= 0.37201794130300503\n",
      "qid = 218 VSM     AP= 0.3154861622713154\n",
      "qid = 219 VSM     AP= 0.09817707377286106\n",
      "qid = 220 VSM     AP= 0.1805524957048692\n",
      "qid = 221 VSM     AP= 0.19264908870123226\n",
      "qid = 222 VSM     AP= 0.7538242247253512\n",
      "qid = 223 VSM     AP= 0.5537243150684932\n",
      "qid = 224 VSM     AP= 0.20389925626414387\n",
      "qid = 225 VSM     AP= 0.10885061751481284\n"
     ]
    },
    {
     "data": {
      "text/plain": [
       "\"\\n\\n### 2. Parse the corpus\\n# Tokenize, stem and remove stop words\\nif not bigrams:\\n    vectorizer = CountVectorizer()\\nelse:\\n    vectorizer = CountVectorizer(ngram_range=(1, 2), token_pattern=r'\\x08\\\\w+\\x08', \\n                                    min_df=1, stop_words = {'the', 'is'})\\n\\ncorpus = parser.stemCorpus(cranfield.corpus_cranfield['abstract'])\\n\\n### 3. Create the model\\n# Compute the term frequencies matrix and the model statistics\\ntf_cranfield = vectorizer.fit_transform(corpus).toarray()\\nmodels = models.RetrievalModelsMatrix(tf_cranfield, vectorizer)\\n\\n### 4. Run the queries over the corpus\\ni = 1\\nmap_vsm = 0\\nprecision_vsm = []\\n\\nfor query in cranfield.queries:\\n    # Parse the query and compute the document scores\\n    scores = models.score_vsm(parser.stemSentence(query))\\n\\n    # Do the evaluation\\n    [average_precision, precision, recall, thresholds] = cranfield.eval(scores, i)\\n    map_vsm = map_vsm + average_precision\\n    precision_vsm.append(precision)\\n    \\n    # Some messages...\\n    if verbose:\\n        plt.plot(recall, precision, color='silver', alpha=0.1)\\n        print('qid =',i, 'VSM     AP=',average_precision)\\n        \\n    i = i + 1\\n\\nmap_vsm = map_vsm/cranfield.num_queries\\nprint('\\nmap_vsm',map_vsm)\\n\""
      ]
     },
     "execution_count": 3,
     "metadata": {},
     "output_type": "execute_result"
    },
    {
     "data": {
      "image/png": "[encoded data removed]",
      "text/plain": [
       "<Figure size 432x288 with 1 Axes>"
      ]
     },
     "metadata": {
      "needs_background": "light"
     },
     "output_type": "display_data"
    }
   ],
   "source": [
    "import collectionloaders\n",
    "import Statistics\n",
    "import numpy as np\n",
    "\n",
    "\n",
    "\n",
    "### 1. Load the corpus\n",
    "cranfield = collectionloaders.CranfieldTestBed()\n",
    "\n",
    "statistics = Statistics.Statistics(cranfield)\n",
    "precision_vsm, recall, map_vsm = statistics.calculate()\n",
    "\n",
    "\n",
    "\"\"\"\n",
    "\n",
    "### 2. Parse the corpus\n",
    "# Tokenize, stem and remove stop words\n",
    "if not bigrams:\n",
    "    vectorizer = CountVectorizer()\n",
    "else:\n",
    "    vectorizer = CountVectorizer(ngram_range=(1, 2), token_pattern=r'\\b\\w+\\b', \n",
    "                                    min_df=1, stop_words = {'the', 'is'})\n",
    "\n",
    "corpus = parser.stemCorpus(cranfield.corpus_cranfield['abstract'])\n",
    "\n",
    "### 3. Create the model\n",
    "# Compute the term frequencies matrix and the model statistics\n",
    "tf_cranfield = vectorizer.fit_transform(corpus).toarray()\n",
    "models = models.RetrievalModelsMatrix(tf_cranfield, vectorizer)\n",
    "\n",
    "### 4. Run the queries over the corpus\n",
    "i = 1\n",
    "map_vsm = 0\n",
    "precision_vsm = []\n",
    "\n",
    "for query in cranfield.queries:\n",
    "    # Parse the query and compute the document scores\n",
    "    scores = models.score_vsm(parser.stemSentence(query))\n",
    "\n",
    "    # Do the evaluation\n",
    "    [average_precision, precision, recall, thresholds] = cranfield.eval(scores, i)\n",
    "    map_vsm = map_vsm + average_precision\n",
    "    precision_vsm.append(precision)\n",
    "    \n",
    "    # Some messages...\n",
    "    if verbose:\n",
    "        plt.plot(recall, precision, color='silver', alpha=0.1)\n",
    "        print('qid =',i, 'VSM     AP=',average_precision)\n",
    "        \n",
    "    i = i + 1\n",
    "\n",
    "map_vsm = map_vsm/cranfield.num_queries\n",
    "print('\\nmap_vsm',map_vsm)\n",
    "\"\"\"\n"
   ]
  },
  {
   "cell_type": "code",
   "execution_count": null,
   "metadata": {},
   "outputs": [],
   "source": []
  },
  {
   "cell_type": "code",
   "execution_count": null,
   "metadata": {},
   "outputs": [],
   "source": []
  },
  {
   "cell_type": "code",
   "execution_count": 23,
   "metadata": {},
   "outputs": [
    {
     "data": {
      "text/plain": [
       "0      what similarity laws must be obeyed when const...\n",
       "1      what are the structural and aeroelastic proble...\n",
       "2      what problems of heat conduction in composite ...\n",
       "3      can a criterion be developed to show empirical...\n",
       "4      what chemical kinetic system is applicable to ...\n",
       "5      what theoretical and experimental guides do we...\n",
       "6      is it possible to relate the available pressur...\n",
       "7      what methods -dash exact or approximate -dash ...\n",
       "8      papers on internal /slip flow/ heat transfer s...\n",
       "9      are real-gas transport properties for air avai...\n",
       "10     is it possible to find an analytical,  similar...\n",
       "11     how can the aerodynamic performance of channel...\n",
       "12     what is the basic mechanism of the transonic a...\n",
       "13             papers on shock-sound wave interaction . \n",
       "14      material properties of photoelastic materials . \n",
       "15     can the transverse potential flow about a body...\n",
       "16     can the three-dimensional problem of a transve...\n",
       "17     are experimental pressure distributions on bod...\n",
       "18     does there exist a good basic treatment of the...\n",
       "19     has anyone formally determined the influence o...\n",
       "20     why does the compressibility transformation fa...\n",
       "21     did anyone else discover that the turbulent sk...\n",
       "22     what progress has been made in research on uns...\n",
       "23     what are the factors which influence the time ...\n",
       "24     does a practical flow follow the theoretical c...\n",
       "25     what is a single approximate formula for the d...\n",
       "26     how is the design of ring or part ring wings b...\n",
       "27     what application has the linear theory design ...\n",
       "28     what is the effect of cross sectional shape on...\n",
       "29     papers on flow visualization on slender conica...\n",
       "                             ...                        \n",
       "195    the problem of similarity for representative i...\n",
       "196    how is fatigue damage estimated using the norm...\n",
       "197    is there any information available on the diff...\n",
       "198    have non-linear large deflection analyses been...\n",
       "199    are asymptotic methods sufficiently accurate i...\n",
       "200    what are the nonequilibrium chemical constitue...\n",
       "201    how accurate are existing analytical theories ...\n",
       "202    are simple empirical methods of any use for es...\n",
       "203    do viscous effects seriously modify pressure d...\n",
       "204    has anyone investigated theoretically whether ...\n",
       "205    how do subsonic and transonic flutter data mea...\n",
       "206    how do large changes in new mass ratio quantit...\n",
       "207    what is the effect of the shape of the drag po...\n",
       "208    what are the physical significance and charact...\n",
       "209    has anyone analytically investigated the stabi...\n",
       "210    what papers are available on the buckling of e...\n",
       "211    what effect do thermal stresses have on the co...\n",
       "212    what is the effect on cylinder buckling of a c...\n",
       "213    can non-linear shallow shell analysis be reduc...\n",
       "214    is it possible to predict the shape of a shrou...\n",
       "215    what investigations have been made of the wave...\n",
       "216    has anyone investigated the effect of shock ge...\n",
       "217    what is the heat transfer to a blunt body in t...\n",
       "218    what are the general effects on flow fields wh...\n",
       "219    find a calculation procedure applicable to all...\n",
       "220    papers applicable to this problem (calculation...\n",
       "221    has anyone investigated the shear buckling of ...\n",
       "222    papers on shear buckling of unstiffened rectan...\n",
       "223    in practice, how close to reality are the assu...\n",
       "224    what design factors can be used to control lif...\n",
       "Name: query, Length: 225, dtype: object"
      ]
     },
     "execution_count": 23,
     "metadata": {},
     "output_type": "execute_result"
    }
   ],
   "source": [
    "cranfield.queries"
   ]
  },
  {
   "cell_type": "code",
   "execution_count": 5,
   "metadata": {
    "scrolled": true
   },
   "outputs": [
    {
     "data": {
      "image/png": "[encoded data removed]",
      "text/plain": [
       "<Figure size 432x288 with 1 Axes>"
      ]
     },
     "metadata": {
      "needs_background": "light"
     },
     "output_type": "display_data"
    }
   ],
   "source": [
    "### Show results\n",
    "statistics.plot_precision_recall(precision_vsm, recall, map_vsm)\n"
   ]
  },
  {
   "cell_type": "code",
   "execution_count": null,
   "metadata": {},
   "outputs": [],
   "source": []
  },
  {
   "cell_type": "markdown",
   "metadata": {},
   "source": [
    "### Results and discussion\n",
    "\n",
    "\n",
    "The following table summarizes the MAP and P10 results:\n",
    "\n",
    "| Retrieval Model | P10 | MAP   |\n",
    "|-----------------|-----|-------|\n",
    "| VSM             | ?   | {{map_vsm}} |\n",
    "| LMD             | ?   | ? |\n",
    "| LMJM             | ?   | ? |\n",
    "| BM25             | ?   | ? |\n",
    "\n",
    "![](results/prec-recall.png)"
   ]
  },
  {
   "cell_type": "code",
   "execution_count": null,
   "metadata": {},
   "outputs": [],
   "source": []
  }
 ],
 "metadata": {
  "kernelspec": {
   "display_name": "Python 3",
   "language": "python",
   "name": "python3"
  },
  "language_info": {
   "codemirror_mode": {
    "name": "ipython",
    "version": 3
   },
   "file_extension": ".py",
   "mimetype": "text/x-python",
   "name": "python",
   "nbconvert_exporter": "python",
   "pygments_lexer": "ipython3",
   "version": "3.7.3"
  }
 },
 "nbformat": 4,
 "nbformat_minor": 2
}
